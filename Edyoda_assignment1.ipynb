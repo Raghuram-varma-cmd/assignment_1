{
  "nbformat": 4,
  "nbformat_minor": 0,
  "metadata": {
    "colab": {
      "provenance": []
    },
    "kernelspec": {
      "name": "python3",
      "display_name": "Python 3"
    },
    "language_info": {
      "name": "python"
    }
  },
  "cells": [
    {
      "cell_type": "markdown",
      "source": [
        "# Write a Python program to get the Fibonacci series between 0 to 50"
      ],
      "metadata": {
        "id": "MExsEnKFnq9p"
      }
    },
    {
      "cell_type": "code",
      "source": [
        "start = int(input(\"Enter first number: \"))\n",
        "end= int(input(\"Enter second number: \"))\n",
        " \n",
        "a=0\n",
        "b=1\n",
        "\n",
        "for i in range(start, end):\n",
        "  if a<50:\n",
        "    print(a)\n",
        "    a, b =b, (a+b)\n"
      ],
      "metadata": {
        "colab": {
          "base_uri": "https://localhost:8080/"
        },
        "id": "CJmTTW7kvHkS",
        "outputId": "d64062e1-f665-4b8c-c3c5-1766bf2f2af9"
      },
      "execution_count": 13,
      "outputs": [
        {
          "output_type": "stream",
          "name": "stdout",
          "text": [
            "Enter first number: 0\n",
            "Enter second number: 50\n",
            "0\n",
            "1\n",
            "1\n",
            "2\n",
            "3\n",
            "5\n",
            "8\n",
            "13\n",
            "21\n",
            "34\n"
          ]
        }
      ]
    },
    {
      "cell_type": "markdown",
      "source": [
        "# Write a Python program that accepts a word from the user and reverse it."
      ],
      "metadata": {
        "id": "ckqCWb1Gocw6"
      }
    },
    {
      "cell_type": "code",
      "source": [
        "name = input(\"enter name: \")\n",
        "\n",
        "for i in range(len(name) -1,-1,-1):\n",
        "  print(name[i], end=\"\")"
      ],
      "metadata": {
        "colab": {
          "base_uri": "https://localhost:8080/"
        },
        "id": "zXW9SykaoftC",
        "outputId": "d3525dff-8098-4d47-dcf0-0e125f376c55"
      },
      "execution_count": 14,
      "outputs": [
        {
          "output_type": "stream",
          "name": "stdout",
          "text": [
            "enter name: Edyoda\n",
            "adoydE"
          ]
        }
      ]
    },
    {
      "cell_type": "markdown",
      "source": [
        "# Write a Python program to count the number of even and odd numbers from a series of numbers.\n"
      ],
      "metadata": {
        "id": "z9ZPvpdzo2L6"
      }
    },
    {
      "cell_type": "code",
      "source": [
        "numbers = eval(input(\"Enter numbers from 1 to 9: \"))\n",
        "count_even=0\n",
        "count_odd=0\n",
        "\n",
        "for i in numbers:\n",
        "  if i%2==0:\n",
        "    count_even = count_even+1\n",
        "  else:\n",
        "    count_odd = count_odd+1\n",
        "print(\"number of even Numbers: \", count_even)\n",
        "print(\"number of odd Numbers: \", count_odd)\n"
      ],
      "metadata": {
        "colab": {
          "base_uri": "https://localhost:8080/"
        },
        "id": "rFCXVCFyyZYa",
        "outputId": "f9305864-f519-4b8c-9aaf-c1e2be4f35f7"
      },
      "execution_count": 18,
      "outputs": [
        {
          "output_type": "stream",
          "name": "stdout",
          "text": [
            "Enter numbers from 1 to 9: (1,2,3,4,5,6,7,8,9)\n",
            "number of even Numbers:  4\n",
            "number of odd Numbers:  5\n"
          ]
        }
      ]
    }
  ]
}